{
 "cells": [
  {
   "cell_type": "markdown",
   "metadata": {},
   "source": [
    "# User Experience Overview\n",
    "\n",
    "As a new user to this project, you would interact with the multi-agent LLM application through a FastAPI web interface and a Dash application for data visualization. Here is a high-level overview of the user experience:\n",
    "\n",
    "## Accessing the FastAPI Endpoints\n",
    "- You can start the FastAPI server by running the `backend/main.py` script.\n",
    "- Once the server is running, you can access various endpoints to interact with the multi-agent LLM system.\n",
    "\n",
    "## FastAPI Endpoints\n",
    "- **Root Endpoint:** `GET /`\n",
    "  - Returns a welcome message.\n",
    "- **About Endpoint:** `GET /about`\n",
    "  - Provides information about the application.\n",
    "- **Add Message Endpoint:** `POST /messages/{msg_name}/`\n",
    "  - Adds a new message to the system.\n",
    "- **List Messages Endpoint:** `GET /messages`\n",
    "  - Lists all messages in the system.\n",
    "- **Data Ingestion Endpoint:** `POST /ingest_data/`\n",
    "  - Triggers the data ingestion process.\n",
    "- **Model Training Endpoint:** `POST /train_model/`\n",
    "  - Triggers the model training process.\n",
    "- **Generate Predictions Endpoint:** `POST /generate_predictions/`\n",
    "  - Triggers the inference process to generate predictions.\n",
    "- **Communicate Results Endpoint:** `POST /communicate/`\n",
    "  - Triggers the communication of results.\n",
    "\n",
    "## Dash Application\n",
    "- The Dash application provides an interactive interface for visualizing the NYC Payroll dataset.\n",
    "- You can filter and explore the data dynamically through various controls and visualizations.\n",
    "\n",
    "## Development Notes\n",
    "- The project includes detailed development plans and notes in Jupyter notebooks located in the `notes/` directory.\n",
    "- These notebooks provide insights into the development process and future steps for integrating with the Tableau Developer Platform.\n",
    "\n",
    "By following the provided endpoints and utilizing the Dash application, you can interact with the multi-agent LLM system and explore the NYC Payroll dataset effectively."
   ]
  }
 ],
 "metadata": {
  "kernelspec": {
   "display_name": "Python 3",
   "language": "python",
   "name": "python3"
  },
  "language_info": {
   "codemirror_mode": {
    "name": "ipython",
    "version": 3
   },
   "file_extension": ".py",
   "mimetype": "text/x-python",
   "name": "python",
   "nbconvert_exporter": "python",
   "pygments_lexer": "ipython3",
   "version": "3.8.5"
  }
 },
 "nbformat": 4,
 "nbformat_minor": 4
}
