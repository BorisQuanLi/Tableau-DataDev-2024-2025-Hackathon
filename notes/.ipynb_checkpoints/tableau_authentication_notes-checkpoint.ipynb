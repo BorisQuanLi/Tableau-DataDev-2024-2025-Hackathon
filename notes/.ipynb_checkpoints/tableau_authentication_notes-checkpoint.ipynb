{
 "cells": [
  {
   "cell_type": "code",
   "execution_count": null,
   "metadata": {
    "vscode": {
     "languageId": "plaintext"
    }
   },
   "outputs": [],
   "source": [
    "{\n",
    " \"cells\": [\n",
    "  {\n",
    "   \"cell_type\": \"markdown\",\n",
    "   \"metadata\": {},\n",
    "   \"source\": [\n",
    "    \"# Tableau Authentication Notes\\n\",\n",
    "    \"\\n\",\n",
    "    \"This notebook contains notes and code snippets for authenticating with Tableau using the `tableauserverclient` library.\"\n",
    "   ]\n",
    "  },\n",
    "  {\n",
    "   \"cell_type\": \"code\",\n",
    "   \"execution_count\": null,\n",
    "   \"metadata\": {},\n",
    "   \"outputs\": [],\n",
    "   \"source\": [\n",
    "    \"import tableauserverclient as TSC\\n\",\n",
    "    \"\\n\",\n",
    "    \"def authenticate_tableau(username, password, site_id, server_url):\\n\",\n",
    "    \"    tableau_auth = TSC.TableauAuth(username, password, site_id)\\n\",\n",
    "    \"    server = TSC.Server(server_url, use_server_version=True)\\n\",\n",
    "    \"    with server.auth.sign_in(tableau_auth):\\n\",\n",
    "    \"        return server\\n\",\n",
    "    \"\\n\",\n",
    "    \"# Example usage\\n\",\n",
    "    \"server = authenticate_tableau('your_username', 'your_password', 'your_site_id', 'https://10ax.online.tableau.com')\\n\",\n",
    "    \"print(server.server_info.server_address)\"\n",
    "   ]\n",
    "  }\n",
    " ],\n",
    " \"metadata\": {\n",
    "  \"language_info\": {\n",
    "   \"name\": \"python\"\n",
    "  }\n",
    " },\n",
    " \"nbformat\": 4,\n",
    " \"nbformat_minor\": 2\n",
    "}"
   ]
  },
  {
   "cell_type": "markdown",
   "metadata": {},
   "source": []
  },
  {
   "cell_type": "code",
   "execution_count": null,
   "metadata": {
    "vscode": {
     "languageId": "plaintext"
    }
   },
   "outputs": [],
   "source": []
  }
 ],
 "metadata": {
  "language_info": {
   "name": "python"
  }
 },
 "nbformat": 4,
 "nbformat_minor": 2
}
